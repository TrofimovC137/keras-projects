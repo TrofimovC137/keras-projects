{
 "cells": [
  {
   "cell_type": "code",
   "execution_count": 1,
   "metadata": {},
   "outputs": [
    {
     "name": "stderr",
     "output_type": "stream",
     "text": [
      "Using TensorFlow backend.\n"
     ]
    }
   ],
   "source": [
    "from keras.datasets import reuters"
   ]
  },
  {
   "cell_type": "code",
   "execution_count": 10,
   "metadata": {},
   "outputs": [],
   "source": [
    "import numpy as np"
   ]
  },
  {
   "cell_type": "code",
   "execution_count": 2,
   "metadata": {},
   "outputs": [
    {
     "name": "stdout",
     "output_type": "stream",
     "text": [
      "Downloading data from https://s3.amazonaws.com/text-datasets/reuters.npz\n",
      "2113536/2110848 [==============================] - 3s 1us/step\n"
     ]
    }
   ],
   "source": [
    "(train_data, train_labels), (test_data, test_labels) = reuters.load_data(num_words = 10000)"
   ]
  },
  {
   "cell_type": "code",
   "execution_count": 3,
   "metadata": {},
   "outputs": [
    {
     "data": {
      "text/plain": [
       "8982"
      ]
     },
     "execution_count": 3,
     "metadata": {},
     "output_type": "execute_result"
    }
   ],
   "source": [
    "train_data.size"
   ]
  },
  {
   "cell_type": "code",
   "execution_count": 4,
   "metadata": {},
   "outputs": [
    {
     "data": {
      "text/plain": [
       "2246"
      ]
     },
     "execution_count": 4,
     "metadata": {},
     "output_type": "execute_result"
    }
   ],
   "source": [
    "test_data.size"
   ]
  },
  {
   "cell_type": "code",
   "execution_count": 8,
   "metadata": {},
   "outputs": [
    {
     "data": {
      "text/plain": [
       "'? ? ? said as a result of its december acquisition of space co it expects earnings per share in 1987 of 1 15 to 1 30 dlrs per share up from 70 cts in 1986 the company said pretax net should rise to nine to 10 mln dlrs from six mln dlrs in 1986 and rental operation revenues to 19 to 22 mln dlrs from 12 5 mln dlrs it said cash flow per share this year should be 2 50 to three dlrs reuter 3'"
      ]
     },
     "execution_count": 8,
     "metadata": {},
     "output_type": "execute_result"
    }
   ],
   "source": [
    "word_index = reuters.get_word_index()\n",
    "reverse_word_index = dict([(value, key) for (key, value) in word_index.items()])\n",
    "decoded_newswire = ' '.join([reverse_word_index.get(i-3, '?') for i in train_data[0]])\n",
    "decoded_newswire"
   ]
  },
  {
   "cell_type": "markdown",
   "metadata": {},
   "source": [
    "### Векторизация данных"
   ]
  },
  {
   "cell_type": "code",
   "execution_count": 11,
   "metadata": {},
   "outputs": [],
   "source": [
    "def vectorize_sequences(sequences, dimension=10000):\n",
    "    results = np.zeros((len(sequences), dimension))\n",
    "    for i, sequence in enumerate(sequences):\n",
    "        results[i, sequence] = 1\n",
    "    return results\n",
    "x_train = vectorize_sequences(train_data)\n",
    "x_test = vectorize_sequences(test_data)"
   ]
  },
  {
   "cell_type": "code",
   "execution_count": 12,
   "metadata": {},
   "outputs": [],
   "source": [
    "from keras.utils.np_utils import to_categorical"
   ]
  },
  {
   "cell_type": "code",
   "execution_count": 13,
   "metadata": {},
   "outputs": [],
   "source": [
    "one_hot_train_labels = to_categorical(train_labels)\n",
    "one_hot_test_labels = to_categorical(test_labels)"
   ]
  },
  {
   "cell_type": "markdown",
   "metadata": {},
   "source": [
    "### Определение модели"
   ]
  },
  {
   "cell_type": "code",
   "execution_count": 14,
   "metadata": {},
   "outputs": [],
   "source": [
    "from keras import models\n",
    "from keras import layers"
   ]
  },
  {
   "cell_type": "code",
   "execution_count": 15,
   "metadata": {},
   "outputs": [],
   "source": [
    "model = models.Sequential()\n",
    "model.add(layers.Dense(64, activation='relu', input_shape=(10000,)))\n",
    "model.add(layers.Dense(64, activation='relu'))\n",
    "model.add(layers.Dense(46, activation='softmax'))"
   ]
  },
  {
   "cell_type": "code",
   "execution_count": 16,
   "metadata": {},
   "outputs": [],
   "source": [
    "model.compile(optimizer='rmsprop',\n",
    "             loss='categorical_crossentropy',\n",
    "             metrics=['accuracy'])"
   ]
  },
  {
   "cell_type": "markdown",
   "metadata": {},
   "source": [
    "### Проверочный набор данных"
   ]
  },
  {
   "cell_type": "code",
   "execution_count": 17,
   "metadata": {},
   "outputs": [],
   "source": [
    "x_val = x_train[:1000]\n",
    "partial_x_train = x_train[1000:]\n",
    "\n",
    "y_val = one_hot_train_labels[:1000]\n",
    "partial_y_train = one_hot_train_labels[1000:]"
   ]
  },
  {
   "cell_type": "code",
   "execution_count": 18,
   "metadata": {},
   "outputs": [
    {
     "name": "stdout",
     "output_type": "stream",
     "text": [
      "Train on 7982 samples, validate on 1000 samples\n",
      "Epoch 1/20\n",
      "7982/7982 [==============================] - 4s 458us/step - loss: 2.6848 - accuracy: 0.5127 - val_loss: 1.8132 - val_accuracy: 0.6260\n",
      "Epoch 2/20\n",
      "7982/7982 [==============================] - 2s 286us/step - loss: 1.4709 - accuracy: 0.6986 - val_loss: 1.3138 - val_accuracy: 0.7200\n",
      "Epoch 3/20\n",
      "7982/7982 [==============================] - 2s 228us/step - loss: 1.0697 - accuracy: 0.7740 - val_loss: 1.1422 - val_accuracy: 0.7550\n",
      "Epoch 4/20\n",
      "7982/7982 [==============================] - 2s 207us/step - loss: 0.8368 - accuracy: 0.8244 - val_loss: 1.0102 - val_accuracy: 0.7950\n",
      "Epoch 5/20\n",
      "7982/7982 [==============================] - 2s 197us/step - loss: 0.6690 - accuracy: 0.8614 - val_loss: 0.9736 - val_accuracy: 0.7870\n",
      "Epoch 6/20\n",
      "7982/7982 [==============================] - 1s 180us/step - loss: 0.5318 - accuracy: 0.8909 - val_loss: 0.8996 - val_accuracy: 0.8110\n",
      "Epoch 7/20\n",
      "7982/7982 [==============================] - 1s 160us/step - loss: 0.4314 - accuracy: 0.9141 - val_loss: 0.8883 - val_accuracy: 0.8240\n",
      "Epoch 8/20\n",
      "7982/7982 [==============================] - 1s 159us/step - loss: 0.3485 - accuracy: 0.9295 - val_loss: 0.8739 - val_accuracy: 0.8250\n",
      "Epoch 9/20\n",
      "7982/7982 [==============================] - 1s 159us/step - loss: 0.2935 - accuracy: 0.9365 - val_loss: 0.8779 - val_accuracy: 0.8170\n",
      "Epoch 10/20\n",
      "7982/7982 [==============================] - 1s 156us/step - loss: 0.2455 - accuracy: 0.9450 - val_loss: 0.8998 - val_accuracy: 0.8210\n",
      "Epoch 11/20\n",
      "7982/7982 [==============================] - 1s 159us/step - loss: 0.2157 - accuracy: 0.9483 - val_loss: 0.9391 - val_accuracy: 0.8100\n",
      "Epoch 12/20\n",
      "7982/7982 [==============================] - 1s 158us/step - loss: 0.1883 - accuracy: 0.9515 - val_loss: 0.9608 - val_accuracy: 0.8160\n",
      "Epoch 13/20\n",
      "7982/7982 [==============================] - 1s 158us/step - loss: 0.1688 - accuracy: 0.9549 - val_loss: 0.9660 - val_accuracy: 0.8120\n",
      "Epoch 14/20\n",
      "7982/7982 [==============================] - 1s 156us/step - loss: 0.1532 - accuracy: 0.9550 - val_loss: 1.0228 - val_accuracy: 0.8070\n",
      "Epoch 15/20\n",
      "7982/7982 [==============================] - 1s 160us/step - loss: 0.1428 - accuracy: 0.9559 - val_loss: 0.9967 - val_accuracy: 0.8090\n",
      "Epoch 16/20\n",
      "7982/7982 [==============================] - 1s 157us/step - loss: 0.1333 - accuracy: 0.9559 - val_loss: 1.0546 - val_accuracy: 0.8000\n",
      "Epoch 17/20\n",
      "7982/7982 [==============================] - 1s 158us/step - loss: 0.1306 - accuracy: 0.9568 - val_loss: 1.0055 - val_accuracy: 0.8110\n",
      "Epoch 18/20\n",
      "7982/7982 [==============================] - 1s 159us/step - loss: 0.1202 - accuracy: 0.9575 - val_loss: 1.1187 - val_accuracy: 0.7950\n",
      "Epoch 19/20\n",
      "7982/7982 [==============================] - 1s 159us/step - loss: 0.1188 - accuracy: 0.9568 - val_loss: 1.1264 - val_accuracy: 0.7960\n",
      "Epoch 20/20\n",
      "7982/7982 [==============================] - 1s 156us/step - loss: 0.1139 - accuracy: 0.9595 - val_loss: 1.0841 - val_accuracy: 0.8050\n"
     ]
    }
   ],
   "source": [
    "history = model.fit(partial_x_train,\n",
    "                   partial_y_train,\n",
    "                   epochs=20,\n",
    "                   batch_size=512,\n",
    "                   validation_data=(x_val,y_val))"
   ]
  },
  {
   "cell_type": "markdown",
   "metadata": {},
   "source": [
    "### Графики потерь и точности на этапах обучения и проверки "
   ]
  },
  {
   "cell_type": "code",
   "execution_count": 19,
   "metadata": {},
   "outputs": [],
   "source": [
    "import matplotlib.pyplot as plt"
   ]
  },
  {
   "cell_type": "code",
   "execution_count": 24,
   "metadata": {},
   "outputs": [
    {
     "data": {
      "image/png": "[encoded data removed]",
      "text/plain": [
       "<Figure size 576x576 with 1 Axes>"
      ]
     },
     "metadata": {
      "needs_background": "light"
     },
     "output_type": "display_data"
    },
    {
     "data": {
      "image/png": "[encoded data removed]",
      "text/plain": [
       "<Figure size 576x576 with 1 Axes>"
      ]
     },
     "metadata": {
      "needs_background": "light"
     },
     "output_type": "display_data"
    }
   ],
   "source": [
    "loss_values = history.history['loss']\n",
    "val_loss_values = history.history['val_loss']\n",
    "\n",
    "epochs = np.arange(1,len(loss_values)+1)\n",
    "\n",
    "plt.figure(figsize = (8,8))\n",
    "plt.plot(epochs, loss_values, 'bo', label='Training loss')\n",
    "plt.plot(epochs, val_loss_values, 'b', label='Validation loss')\n",
    "plt.title('Training and validation loss')\n",
    "plt.xlabel('Epochs')\n",
    "plt.ylabel('Loss')\n",
    "plt.legend()\n",
    "plt.show()\n",
    "\n",
    "acc_values = history.history['accuracy']\n",
    "val_acc_values = history.history['val_accuracy']\n",
    "\n",
    "plt.figure(figsize = (8,8))\n",
    "plt.plot(epochs, acc_values, 'bo', label='Training accuracy')\n",
    "plt.plot(epochs, val_acc_values, 'b', label='Validation accuracy')\n",
    "plt.title('Training and validation accuracy')\n",
    "plt.xlabel('Epochs')\n",
    "plt.ylabel('Accuracy')\n",
    "plt.legend()\n",
    "plt.show()"
   ]
  },
  {
   "cell_type": "markdown",
   "metadata": {},
   "source": [
    "### Модель переобучается на 9 эпохе, создадим новую модель с 9-ю эпохами обучения"
   ]
  },
  {
   "cell_type": "code",
   "execution_count": 25,
   "metadata": {},
   "outputs": [],
   "source": [
    "opt_model = models.Sequential()\n",
    "opt_model.add(layers.Dense(64, activation='relu', input_shape=(10000,)))\n",
    "opt_model.add(layers.Dense(64, activation='relu'))\n",
    "opt_model.add(layers.Dense(46, activation='softmax'))"
   ]
  },
  {
   "cell_type": "code",
   "execution_count": 26,
   "metadata": {},
   "outputs": [],
   "source": [
    "opt_model.compile(optimizer='rmsprop',\n",
    "             loss='categorical_crossentropy',\n",
    "             metrics=['accuracy'])"
   ]
  },
  {
   "cell_type": "code",
   "execution_count": 27,
   "metadata": {},
   "outputs": [
    {
     "name": "stdout",
     "output_type": "stream",
     "text": [
      "Train on 7982 samples, validate on 1000 samples\n",
      "Epoch 1/9\n",
      "7982/7982 [==============================] - 2s 289us/step - loss: 2.6111 - accuracy: 0.4841 - val_loss: 1.7442 - val_accuracy: 0.6280\n",
      "Epoch 2/9\n",
      "7982/7982 [==============================] - 2s 207us/step - loss: 1.4144 - accuracy: 0.7063 - val_loss: 1.2845 - val_accuracy: 0.7150\n",
      "Epoch 3/9\n",
      "7982/7982 [==============================] - 1s 183us/step - loss: 1.0424 - accuracy: 0.7739 - val_loss: 1.1132 - val_accuracy: 0.7710\n",
      "Epoch 4/9\n",
      "7982/7982 [==============================] - 1s 175us/step - loss: 0.8188 - accuracy: 0.8249 - val_loss: 1.0086 - val_accuracy: 0.7920\n",
      "Epoch 5/9\n",
      "7982/7982 [==============================] - 1s 169us/step - loss: 0.6532 - accuracy: 0.8568 - val_loss: 0.9420 - val_accuracy: 0.8020\n",
      "Epoch 6/9\n",
      "7982/7982 [==============================] - 1s 156us/step - loss: 0.5209 - accuracy: 0.8890 - val_loss: 0.8982 - val_accuracy: 0.8140\n",
      "Epoch 7/9\n",
      "7982/7982 [==============================] - 1s 156us/step - loss: 0.4201 - accuracy: 0.9103 - val_loss: 0.8794 - val_accuracy: 0.8170\n",
      "Epoch 8/9\n",
      "7982/7982 [==============================] - 1s 157us/step - loss: 0.3460 - accuracy: 0.9260 - val_loss: 0.8739 - val_accuracy: 0.8230\n",
      "Epoch 9/9\n",
      "7982/7982 [==============================] - 1s 155us/step - loss: 0.2829 - accuracy: 0.9395 - val_loss: 0.9003 - val_accuracy: 0.8070\n"
     ]
    }
   ],
   "source": [
    "history = opt_model.fit(partial_x_train,\n",
    "                   partial_y_train,\n",
    "                   epochs=9,\n",
    "                   batch_size=512,\n",
    "                   validation_data=(x_val,y_val))"
   ]
  },
  {
   "cell_type": "code",
   "execution_count": 29,
   "metadata": {},
   "outputs": [
    {
     "name": "stdout",
     "output_type": "stream",
     "text": [
      "2246/2246 [==============================] - 1s 325us/step\n"
     ]
    },
    {
     "data": {
      "text/plain": [
       "[0.9996360921477592, 0.777827262878418]"
      ]
     },
     "execution_count": 29,
     "metadata": {},
     "output_type": "execute_result"
    }
   ],
   "source": [
    "results = opt_model.evaluate(x_test, one_hot_test_labels)\n",
    "results"
   ]
  },
  {
   "cell_type": "markdown",
   "metadata": {},
   "source": [
    "### Получение предсказаний для тестовых данных"
   ]
  },
  {
   "cell_type": "code",
   "execution_count": 30,
   "metadata": {},
   "outputs": [],
   "source": [
    "predictions = opt_model.predict(x_test)"
   ]
  },
  {
   "cell_type": "code",
   "execution_count": 33,
   "metadata": {},
   "outputs": [
    {
     "data": {
      "text/plain": [
       "(2246, 46)"
      ]
     },
     "execution_count": 33,
     "metadata": {},
     "output_type": "execute_result"
    }
   ],
   "source": [
    "predictions.shape"
   ]
  },
  {
   "cell_type": "code",
   "execution_count": 34,
   "metadata": {},
   "outputs": [
    {
     "data": {
      "text/plain": [
       "0.9999999"
      ]
     },
     "execution_count": 34,
     "metadata": {},
     "output_type": "execute_result"
    }
   ],
   "source": [
    "np.sum(predictions[0])"
   ]
  },
  {
   "cell_type": "markdown",
   "metadata": {},
   "source": [
    "### элементы predictions вероятности pi того, что данный объект  классу i"
   ]
  },
  {
   "cell_type": "markdown",
   "metadata": {},
   "source": [
    "### Пример модели с слишком малым промежуточным слоем, на котором будет происходить потеря информации:"
   ]
  },
  {
   "cell_type": "code",
   "execution_count": 35,
   "metadata": {},
   "outputs": [],
   "source": [
    "bad_model = models.Sequential()\n",
    "bad_model.add(layers.Dense(64, activation='relu', input_shape=(10000,)))\n",
    "bad_model.add(layers.Dense(4, activation='relu'))\n",
    "bad_model.add(layers.Dense(46, activation='softmax'))"
   ]
  },
  {
   "cell_type": "code",
   "execution_count": 36,
   "metadata": {},
   "outputs": [],
   "source": [
    "bad_model.compile(optimizer='rmsprop',\n",
    "             loss='categorical_crossentropy',\n",
    "             metrics=['accuracy'])"
   ]
  },
  {
   "cell_type": "code",
   "execution_count": 37,
   "metadata": {},
   "outputs": [
    {
     "name": "stdout",
     "output_type": "stream",
     "text": [
      "Train on 7982 samples, validate on 1000 samples\n",
      "Epoch 1/20\n",
      "7982/7982 [==============================] - 2s 292us/step - loss: 3.4892 - accuracy: 0.2035 - val_loss: 3.1074 - val_accuracy: 0.2610\n",
      "Epoch 2/20\n",
      "7982/7982 [==============================] - 2s 206us/step - loss: 2.8814 - accuracy: 0.2791 - val_loss: 2.6523 - val_accuracy: 0.3010\n",
      "Epoch 3/20\n",
      "7982/7982 [==============================] - 2s 194us/step - loss: 2.4334 - accuracy: 0.3158 - val_loss: 2.2633 - val_accuracy: 0.4190\n",
      "Epoch 4/20\n",
      "7982/7982 [==============================] - 1s 178us/step - loss: 2.0191 - accuracy: 0.5639 - val_loss: 1.9267 - val_accuracy: 0.6320\n",
      "Epoch 5/20\n",
      "7982/7982 [==============================] - 1s 166us/step - loss: 1.6748 - accuracy: 0.6639 - val_loss: 1.6827 - val_accuracy: 0.6560\n",
      "Epoch 6/20\n",
      "7982/7982 [==============================] - 1s 157us/step - loss: 1.4425 - accuracy: 0.6868 - val_loss: 1.5463 - val_accuracy: 0.6580\n",
      "Epoch 7/20\n",
      "7982/7982 [==============================] - 1s 168us/step - loss: 1.2946 - accuracy: 0.6957 - val_loss: 1.4775 - val_accuracy: 0.6650\n",
      "Epoch 8/20\n",
      "7982/7982 [==============================] - 1s 171us/step - loss: 1.1914 - accuracy: 0.7038 - val_loss: 1.4386 - val_accuracy: 0.6630\n",
      "Epoch 9/20\n",
      "7982/7982 [==============================] - 1s 159us/step - loss: 1.1092 - accuracy: 0.7126 - val_loss: 1.3868 - val_accuracy: 0.6780\n",
      "Epoch 10/20\n",
      "7982/7982 [==============================] - 1s 172us/step - loss: 1.0390 - accuracy: 0.7316 - val_loss: 1.3749 - val_accuracy: 0.6810\n",
      "Epoch 11/20\n",
      "7982/7982 [==============================] - 1s 179us/step - loss: 0.9784 - accuracy: 0.7533 - val_loss: 1.3614 - val_accuracy: 0.6850\n",
      "Epoch 12/20\n",
      "7982/7982 [==============================] - 1s 183us/step - loss: 0.9248 - accuracy: 0.7652 - val_loss: 1.3472 - val_accuracy: 0.6830\n",
      "Epoch 13/20\n",
      "7982/7982 [==============================] - 1s 184us/step - loss: 0.8798 - accuracy: 0.7740 - val_loss: 1.3703 - val_accuracy: 0.6870\n",
      "Epoch 14/20\n",
      "7982/7982 [==============================] - 1s 177us/step - loss: 0.8408 - accuracy: 0.7810 - val_loss: 1.3492 - val_accuracy: 0.6910\n",
      "Epoch 15/20\n",
      "7982/7982 [==============================] - 1s 186us/step - loss: 0.8063 - accuracy: 0.7856 - val_loss: 1.3786 - val_accuracy: 0.6920\n",
      "Epoch 16/20\n",
      "7982/7982 [==============================] - 1s 172us/step - loss: 0.7712 - accuracy: 0.7907 - val_loss: 1.3679 - val_accuracy: 0.6920\n",
      "Epoch 17/20\n",
      "7982/7982 [==============================] - 1s 171us/step - loss: 0.7418 - accuracy: 0.7959 - val_loss: 1.3817 - val_accuracy: 0.7000\n",
      "Epoch 18/20\n",
      "7982/7982 [==============================] - 1s 167us/step - loss: 0.7125 - accuracy: 0.8036 - val_loss: 1.4141 - val_accuracy: 0.6970\n",
      "Epoch 19/20\n",
      "7982/7982 [==============================] - 1s 161us/step - loss: 0.6869 - accuracy: 0.8111 - val_loss: 1.3883 - val_accuracy: 0.6990\n",
      "Epoch 20/20\n",
      "7982/7982 [==============================] - 1s 162us/step - loss: 0.6602 - accuracy: 0.8175 - val_loss: 1.4293 - val_accuracy: 0.7000\n"
     ]
    },
    {
     "data": {
      "text/plain": [
       "<keras.callbacks.callbacks.History at 0x4a8bbe80>"
      ]
     },
     "execution_count": 37,
     "metadata": {},
     "output_type": "execute_result"
    }
   ],
   "source": [
    "bad_model.fit(partial_x_train,\n",
    "              partial_y_train,\n",
    "              epochs=20,\n",
    "              batch_size=512,\n",
    "              validation_data=(x_val,y_val))"
   ]
  },
  {
   "cell_type": "code",
   "execution_count": 38,
   "metadata": {},
   "outputs": [
    {
     "name": "stdout",
     "output_type": "stream",
     "text": [
      "2246/2246 [==============================] - 1s 347us/step\n"
     ]
    },
    {
     "data": {
      "text/plain": [
       "[1.4917222145722577, 0.6865538954734802]"
      ]
     },
     "execution_count": 38,
     "metadata": {},
     "output_type": "execute_result"
    }
   ],
   "source": [
    "results = bad_model.evaluate(x_test, one_hot_test_labels)\n",
    "results"
   ]
  },
  {
   "cell_type": "markdown",
   "metadata": {},
   "source": [
    "#### Потеря точности ~11%"
   ]
  },
  {
   "cell_type": "code",
   "execution_count": null,
   "metadata": {},
   "outputs": [],
   "source": []
  }
 ],
 "metadata": {
  "kernelspec": {
   "display_name": "Python 3",
   "language": "python",
   "name": "python3"
  },
  "language_info": {
   "codemirror_mode": {
    "name": "ipython",
    "version": 3
   },
   "file_extension": ".py",
   "mimetype": "text/x-python",
   "name": "python",
   "nbconvert_exporter": "python",
   "pygments_lexer": "ipython3",
   "version": "3.7.3"
  }
 },
 "nbformat": 4,
 "nbformat_minor": 2
}

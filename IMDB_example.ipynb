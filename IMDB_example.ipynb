{
 "cells": [
  {
   "cell_type": "code",
   "execution_count": 13,
   "metadata": {},
   "outputs": [],
   "source": [
    "import numpy as np\n",
    "import pandas as pd"
   ]
  },
  {
   "cell_type": "code",
   "execution_count": 2,
   "metadata": {},
   "outputs": [],
   "source": [
    "from keras.datasets import imdb"
   ]
  },
  {
   "cell_type": "markdown",
   "metadata": {},
   "source": [
    "### Бинарная классификация "
   ]
  },
  {
   "cell_type": "code",
   "execution_count": 3,
   "metadata": {},
   "outputs": [
    {
     "name": "stdout",
     "output_type": "stream",
     "text": [
      "Downloading data from https://s3.amazonaws.com/text-datasets/imdb.npz\n",
      "17465344/17464789 [==============================] - 21s 1us/step\n"
     ]
    }
   ],
   "source": [
    "(train_data, train_labels), (test_data, test_labels) = imdb.load_data(num_words = 10000)"
   ]
  },
  {
   "cell_type": "code",
   "execution_count": 30,
   "metadata": {},
   "outputs": [
    {
     "data": {
      "text/plain": [
       "[1, 14, 22, 16, 43, 530, 973, 1622, 1385, 65]"
      ]
     },
     "execution_count": 30,
     "metadata": {},
     "output_type": "execute_result"
    }
   ],
   "source": [
    "train_data[0][:10]"
   ]
  },
  {
   "cell_type": "code",
   "execution_count": 9,
   "metadata": {},
   "outputs": [
    {
     "data": {
      "text/plain": [
       "array([1, 0, 0, ..., 0, 1, 0], dtype=int64)"
      ]
     },
     "execution_count": 9,
     "metadata": {},
     "output_type": "execute_result"
    }
   ],
   "source": [
    "train_labels"
   ]
  },
  {
   "cell_type": "markdown",
   "metadata": {},
   "source": [
    "### Декодирование первого отзыва"
   ]
  },
  {
   "cell_type": "code",
   "execution_count": 56,
   "metadata": {},
   "outputs": [
    {
     "data": {
      "text/plain": [
       "\"? just got out and cannot believe what a brilliant documentary this is rarely do you walk out of a movie theater in such awe and ? lately movies have become so over hyped that the thrill of discovering something truly special and unique rarely happens ? ? did this to me when it first came out and this movie is doing to me now i didn't know a thing about this before going into it and what a surprise if you hear the concept you might get the feeling that this is one of those ? movies about an amazing triumph covered with over the top music and trying to have us fully convinced of what a great story it is telling but then not letting us in ? this is not that movie the people tell the story this does such a good job of capturing every moment of their involvement while we enter their world and feel every second with them there is so much beyond the climb that makes everything they go through so much more tense touching the void was also a great doc about mountain climbing and showing the intensity in an engaging way but this film is much more of a human story i just saw it today but i will go and say that this is one of the best documentaries i have ever seen\""
      ]
     },
     "execution_count": 56,
     "metadata": {},
     "output_type": "execute_result"
    }
   ],
   "source": [
    "word_index = imdb.get_word_index()\n",
    "reverse_word_index = dict([(value, key) for (key, value) in word_index.items()])\n",
    "decoded_review = ' '.join([reverse_word_index.get(i - 3, '?') for i in train_data[8]])\n",
    "decoded_review"
   ]
  },
  {
   "cell_type": "markdown",
   "metadata": {},
   "source": [
    "### Преобразование данных "
   ]
  },
  {
   "cell_type": "code",
   "execution_count": 57,
   "metadata": {},
   "outputs": [],
   "source": [
    "def vectorize_sequences(sequences, dimension=10000):\n",
    "    results = np.zeros((len(sequences), dimension))\n",
    "    for i, sequence in enumerate(sequences):\n",
    "        results[i, sequence] = 1\n",
    "    return results\n",
    "x_train = vectorize_sequences(train_data)\n",
    "x_test = vectorize_sequences(test_data)"
   ]
  },
  {
   "cell_type": "code",
   "execution_count": 59,
   "metadata": {},
   "outputs": [
    {
     "data": {
      "text/plain": [
       "array([0., 1., 1., ..., 0., 0., 0.])"
      ]
     },
     "execution_count": 59,
     "metadata": {},
     "output_type": "execute_result"
    }
   ],
   "source": [
    "x_train[0]"
   ]
  },
  {
   "cell_type": "code",
   "execution_count": 60,
   "metadata": {},
   "outputs": [],
   "source": [
    "y_train = np.asarray(train_labels).astype('float32')\n",
    "y_test = np.asarray(test_labels).astype('float32')"
   ]
  },
  {
   "cell_type": "markdown",
   "metadata": {},
   "source": [
    "### Модель"
   ]
  },
  {
   "cell_type": "code",
   "execution_count": 62,
   "metadata": {},
   "outputs": [],
   "source": [
    "from keras import models\n",
    "from keras import layers"
   ]
  },
  {
   "cell_type": "code",
   "execution_count": 63,
   "metadata": {},
   "outputs": [],
   "source": [
    "model = models.Sequential()\n",
    "model.add(layers.Dense(16, activation = 'relu', input_shape = (10000,)))\n",
    "model.add(layers.Dense(16, activation = 'relu'))\n",
    "model.add(layers.Dense(1, activation = 'sigmoid'))"
   ]
  },
  {
   "cell_type": "code",
   "execution_count": 64,
   "metadata": {},
   "outputs": [],
   "source": [
    "model.compile(optimizer = 'rmsprop',\n",
    "             loss = 'binary_crossentropy',\n",
    "             metrics = ['accuracy'])"
   ]
  },
  {
   "cell_type": "markdown",
   "metadata": {},
   "source": [
    "### проверочный набор"
   ]
  },
  {
   "cell_type": "code",
   "execution_count": 65,
   "metadata": {},
   "outputs": [],
   "source": [
    "x_val = x_train[:10000]\n",
    "partial_x_train = x_train[10000:]\n",
    "\n",
    "y_val = y_train[:10000]\n",
    "partial_y_train = y_train[10000:]"
   ]
  },
  {
   "cell_type": "code",
   "execution_count": 66,
   "metadata": {},
   "outputs": [
    {
     "name": "stdout",
     "output_type": "stream",
     "text": [
      "Train on 15000 samples, validate on 10000 samples\n",
      "Epoch 1/20\n",
      "15000/15000 [==============================] - 7s 468us/step - loss: 0.4893 - accuracy: 0.7847 - val_loss: 0.3633 - val_accuracy: 0.8741\n",
      "Epoch 2/20\n",
      "15000/15000 [==============================] - 3s 232us/step - loss: 0.2844 - accuracy: 0.9072 - val_loss: 0.2931 - val_accuracy: 0.8894\n",
      "Epoch 3/20\n",
      "15000/15000 [==============================] - 3s 211us/step - loss: 0.2108 - accuracy: 0.9290 - val_loss: 0.2768 - val_accuracy: 0.8908\n",
      "Epoch 4/20\n",
      "15000/15000 [==============================] - 4s 267us/step - loss: 0.1648 - accuracy: 0.9457 - val_loss: 0.2969 - val_accuracy: 0.8792\n",
      "Epoch 5/20\n",
      "15000/15000 [==============================] - 4s 263us/step - loss: 0.1367 - accuracy: 0.9547 - val_loss: 0.2941 - val_accuracy: 0.8810\n",
      "Epoch 6/20\n",
      "15000/15000 [==============================] - 4s 276us/step - loss: 0.1109 - accuracy: 0.9653 - val_loss: 0.3007 - val_accuracy: 0.8838\n",
      "Epoch 7/20\n",
      "15000/15000 [==============================] - 3s 228us/step - loss: 0.0923 - accuracy: 0.9723 - val_loss: 0.3707 - val_accuracy: 0.8696\n",
      "Epoch 8/20\n",
      "15000/15000 [==============================] - 3s 204us/step - loss: 0.0784 - accuracy: 0.9769 - val_loss: 0.3733 - val_accuracy: 0.8709\n",
      "Epoch 9/20\n",
      "15000/15000 [==============================] - 3s 197us/step - loss: 0.0648 - accuracy: 0.9833 - val_loss: 0.3628 - val_accuracy: 0.8793\n",
      "Epoch 10/20\n",
      "15000/15000 [==============================] - 3s 185us/step - loss: 0.0557 - accuracy: 0.9849 - val_loss: 0.3844 - val_accuracy: 0.8789\n",
      "Epoch 11/20\n",
      "15000/15000 [==============================] - 3s 178us/step - loss: 0.0445 - accuracy: 0.9893 - val_loss: 0.4273 - val_accuracy: 0.8711\n",
      "Epoch 12/20\n",
      "15000/15000 [==============================] - 4s 267us/step - loss: 0.0372 - accuracy: 0.9915 - val_loss: 0.4565 - val_accuracy: 0.8708\n",
      "Epoch 13/20\n",
      "15000/15000 [==============================] - 4s 248us/step - loss: 0.0284 - accuracy: 0.9943 - val_loss: 0.4763 - val_accuracy: 0.8717\n",
      "Epoch 14/20\n",
      "15000/15000 [==============================] - 3s 227us/step - loss: 0.0257 - accuracy: 0.9942 - val_loss: 0.5166 - val_accuracy: 0.8660\n",
      "Epoch 15/20\n",
      "15000/15000 [==============================] - 3s 190us/step - loss: 0.0212 - accuracy: 0.9964 - val_loss: 0.5369 - val_accuracy: 0.8690\n",
      "Epoch 16/20\n",
      "15000/15000 [==============================] - 3s 177us/step - loss: 0.0159 - accuracy: 0.9981 - val_loss: 0.5630 - val_accuracy: 0.8677\n",
      "Epoch 17/20\n",
      "15000/15000 [==============================] - 3s 189us/step - loss: 0.0174 - accuracy: 0.9959 - val_loss: 0.6016 - val_accuracy: 0.8657\n",
      "Epoch 18/20\n",
      "15000/15000 [==============================] - 4s 273us/step - loss: 0.0072 - accuracy: 0.9997 - val_loss: 0.6343 - val_accuracy: 0.8652\n",
      "Epoch 19/20\n",
      "15000/15000 [==============================] - 4s 270us/step - loss: 0.0091 - accuracy: 0.9989 - val_loss: 0.6723 - val_accuracy: 0.8631\n",
      "Epoch 20/20\n",
      "15000/15000 [==============================] - 3s 232us/step - loss: 0.0089 - accuracy: 0.9981 - val_loss: 0.7049 - val_accuracy: 0.8621\n"
     ]
    }
   ],
   "source": [
    "history = model.fit(partial_x_train,\n",
    "                   partial_y_train,\n",
    "                   epochs = 20,\n",
    "                   batch_size = 512,\n",
    "                   validation_data = (x_val, y_val))"
   ]
  },
  {
   "cell_type": "code",
   "execution_count": 67,
   "metadata": {},
   "outputs": [
    {
     "data": {
      "text/plain": [
       "dict_keys(['val_loss', 'val_accuracy', 'loss', 'accuracy'])"
      ]
     },
     "execution_count": 67,
     "metadata": {},
     "output_type": "execute_result"
    }
   ],
   "source": [
    "history_dict = history.history\n",
    "history_dict.keys()"
   ]
  },
  {
   "cell_type": "markdown",
   "metadata": {},
   "source": [
    "### Графики потерь на этапах обучения и проверки"
   ]
  },
  {
   "cell_type": "code",
   "execution_count": 68,
   "metadata": {},
   "outputs": [],
   "source": [
    "import matplotlib.pyplot as plt"
   ]
  },
  {
   "cell_type": "code",
   "execution_count": 78,
   "metadata": {},
   "outputs": [
    {
     "data": {
      "image/png": "[encoded data removed]",
      "text/plain": [
       "<Figure size 576x576 with 1 Axes>"
      ]
     },
     "metadata": {
      "needs_background": "light"
     },
     "output_type": "display_data"
    },
    {
     "data": {
      "image/png": "[encoded data removed]",
      "text/plain": [
       "<Figure size 576x576 with 1 Axes>"
      ]
     },
     "metadata": {
      "needs_background": "light"
     },
     "output_type": "display_data"
    }
   ],
   "source": [
    "loss_values = history_dict['loss']\n",
    "val_loss_values = history_dict['val_loss']\n",
    "\n",
    "epochs = np.arange(1,21)\n",
    "\n",
    "plt.figure(figsize = (8,8))\n",
    "plt.plot(epochs, loss_values, 'bo', label='Training loss')\n",
    "plt.plot(epochs, val_loss_values, 'b', label='Validation loss')\n",
    "plt.title('Training and validation loss')\n",
    "plt.xlabel('Epochs')\n",
    "plt.ylabel('Loss')\n",
    "plt.legend()\n",
    "plt.show()\n",
    "\n",
    "acc_values = history_dict['accuracy']\n",
    "val_acc_values = history_dict['val_accuracy']\n",
    "\n",
    "plt.figure(figsize = (8,8))\n",
    "plt.plot(epochs, acc_values, 'bo', label='Training accuracy')\n",
    "plt.plot(epochs, val_acc_values, 'b', label='Validation accuracy')\n",
    "plt.title('Training and validation accuracy')\n",
    "plt.xlabel('Epochs')\n",
    "plt.ylabel('Accuracy')\n",
    "plt.legend()\n",
    "plt.show()"
   ]
  },
  {
   "cell_type": "markdown",
   "metadata": {},
   "source": [
    "#### Наглядный пример переобучения"
   ]
  },
  {
   "cell_type": "markdown",
   "metadata": {},
   "source": [
    "### Новая модель с 4 эпохами"
   ]
  },
  {
   "cell_type": "code",
   "execution_count": 81,
   "metadata": {},
   "outputs": [],
   "source": [
    "model2 = models.Sequential()\n",
    "model2.add(layers.Dense(16, activation='relu', input_shape=(10000,)))\n",
    "model2.add(layers.Dense(16, activation='relu'))\n",
    "model2.add(layers.Dense(1, activation='sigmoid'))"
   ]
  },
  {
   "cell_type": "code",
   "execution_count": 83,
   "metadata": {},
   "outputs": [],
   "source": [
    "model2.compile(optimizer='rmsprop',\n",
    "             loss='binary_crossentropy',\n",
    "             metrics=['accuracy'])"
   ]
  },
  {
   "cell_type": "code",
   "execution_count": 84,
   "metadata": {},
   "outputs": [
    {
     "name": "stdout",
     "output_type": "stream",
     "text": [
      "Epoch 1/4\n",
      "25000/25000 [==============================] - 4s 150us/step - loss: 0.4485 - accuracy: 0.8146\n",
      "Epoch 2/4\n",
      "25000/25000 [==============================] - 2s 92us/step - loss: 0.2548 - accuracy: 0.9088\n",
      "Epoch 3/4\n",
      "25000/25000 [==============================] - 2s 86us/step - loss: 0.1984 - accuracy: 0.9272\n",
      "Epoch 4/4\n",
      "25000/25000 [==============================] - 2s 88us/step - loss: 0.1653 - accuracy: 0.9413\n",
      "25000/25000 [==============================] - 6s 251us/step\n"
     ]
    },
    {
     "data": {
      "text/plain": [
       "[0.3050349923181534, 0.8793200254440308]"
      ]
     },
     "execution_count": 84,
     "metadata": {},
     "output_type": "execute_result"
    }
   ],
   "source": [
    "model2.fit(x_train, y_train, epochs=4, batch_size=512)\n",
    "results = model2.evaluate(x_test, y_test)\n",
    "results"
   ]
  },
  {
   "cell_type": "code",
   "execution_count": 85,
   "metadata": {},
   "outputs": [
    {
     "data": {
      "text/plain": [
       "array([[0.15095562],\n",
       "       [0.99985784],\n",
       "       [0.9266213 ],\n",
       "       ...,\n",
       "       [0.0708915 ],\n",
       "       [0.04855889],\n",
       "       [0.3747803 ]], dtype=float32)"
      ]
     },
     "execution_count": 85,
     "metadata": {},
     "output_type": "execute_result"
    }
   ],
   "source": [
    "model2.predict(x_test)"
   ]
  },
  {
   "cell_type": "code",
   "execution_count": null,
   "metadata": {},
   "outputs": [],
   "source": []
  }
 ],
 "metadata": {
  "kernelspec": {
   "display_name": "Python 3",
   "language": "python",
   "name": "python3"
  },
  "language_info": {
   "codemirror_mode": {
    "name": "ipython",
    "version": 3
   },
   "file_extension": ".py",
   "mimetype": "text/x-python",
   "name": "python",
   "nbconvert_exporter": "python",
   "pygments_lexer": "ipython3",
   "version": "3.7.3"
  }
 },
 "nbformat": 4,
 "nbformat_minor": 2
}
